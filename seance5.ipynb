{
  "nbformat": 4,
  "nbformat_minor": 0,
  "metadata": {
    "kernelspec": {
      "display_name": "Python 3",
      "language": "python",
      "name": "python3"
    },
    "language_info": {
      "codemirror_mode": {
        "name": "ipython",
        "version": 3
      },
      "file_extension": ".py",
      "mimetype": "text/x-python",
      "name": "python",
      "nbconvert_exporter": "python",
      "pygments_lexer": "ipython3",
      "version": "3.7.6"
    },
    "colab": {
      "name": "seance5.ipynb",
      "provenance": [],
      "collapsed_sections": []
    }
  },
  "cells": [
    {
      "cell_type": "markdown",
      "metadata": {
        "id": "8MaG32h19gKn"
      },
      "source": [
        "Ex1:\n",
        "    \n",
        "1. Ecrire une fonction qui prend en entrée une fonction f et des réels a et h et donne en sortie le taux de variation (ou d'accroissement) de la fonction f entre le point d'abscisse a+h et a.\n",
        "2. Tester avec f(x)=3x^3+1x^2-5"
      ]
    },
    {
      "cell_type": "code",
      "metadata": {
        "id": "wcCuKSrp9gKo",
        "outputId": "4aebe873-61a5-428e-ef03-a346bf1b3cdf",
        "colab": {
          "base_uri": "https://localhost:8080/"
        }
      },
      "source": [
        "def f(x):\n",
        "  return 3*(x)**3+x**2-5\n",
        "def tauxVariation(f,a,h):\n",
        "  return (f(a+h)-f(a))/h\n",
        "tauxVariation(f,1,0.0001)"
      ],
      "execution_count": 3,
      "outputs": [
        {
          "output_type": "execute_result",
          "data": {
            "text/plain": [
              "11.001000029988717"
            ]
          },
          "metadata": {
            "tags": []
          },
          "execution_count": 3
        }
      ]
    },
    {
      "cell_type": "markdown",
      "metadata": {
        "id": "Zm1k0sGX9gKx"
      },
      "source": [
        "Ex2:\n",
        "1. Ecrire une fonction qui calcule la liste des coefficients directeurs pour une fonction f définit sur I=[a;b] avec un pas \"p\"\n",
        "2. Tester avec f(x)=(1+x)/(x-4) définit sur I=[0,1] avec un pas de 0.01"
      ]
    },
    {
      "cell_type": "code",
      "metadata": {
        "id": "MU2dxlPe9gK0",
        "outputId": "da56ad6f-ac69-41ee-b6aa-388f274ea1a2",
        "colab": {
          "base_uri": "https://localhost:8080/"
        }
      },
      "source": [
        "def coef(f, a, b, p):\n",
        "  res = []\n",
        "  x = a \n",
        "  while x < b:\n",
        "    res.append(f(x))\n",
        "    x += p\n",
        "  return res\n",
        "\n",
        "def f(x):\n",
        "  return (1+x)/(x-4)\n",
        "\n",
        "coef(f, 0, 0.2, 0.01)"
      ],
      "execution_count": 8,
      "outputs": [
        {
          "output_type": "execute_result",
          "data": {
            "text/plain": [
              "[-0.25,\n",
              " -0.2531328320802005,\n",
              " -0.2562814070351759,\n",
              " -0.2594458438287154,\n",
              " -0.26262626262626265,\n",
              " -0.26582278481012656,\n",
              " -0.2690355329949239,\n",
              " -0.272264631043257,\n",
              " -0.2755102040816327,\n",
              " -0.27877237851662406,\n",
              " -0.2820512820512821,\n",
              " -0.2853470437017994,\n",
              " -0.28865979381443296,\n",
              " -0.2919896640826873,\n",
              " -0.29533678756476683,\n",
              " -0.2987012987012987,\n",
              " -0.3020833333333333,\n",
              " -0.3054830287206266,\n",
              " -0.3089005235602094,\n",
              " -0.3123359580052493]"
            ]
          },
          "metadata": {
            "tags": []
          },
          "execution_count": 8
        }
      ]
    },
    {
      "cell_type": "markdown",
      "metadata": {
        "id": "C7gBM1Wa9gK7"
      },
      "source": [
        "\n",
        "Ex3:\n",
        "on considère une suite U définie par Un+1=Un+n+1 et de premier terme U0. Ecrire une fonction qui prend en entrée les valeurs de n et U0 et affiche la valeur de Un.\n",
        "1. De facon iterative\n",
        "2. Par recurence"
      ]
    },
    {
      "cell_type": "code",
      "metadata": {
        "id": "8U_rsNwt9gK8",
        "outputId": "27461106-17cd-4ee8-ae47-4ba1fe21d0a1",
        "colab": {
          "base_uri": "https://localhost:8080/"
        }
      },
      "source": [
        "def u(n,U0):\n",
        "  if(n==0):\n",
        "    return U0\n",
        "  else:\n",
        "    return u(n-1,U0) + n + 1\n",
        "\n",
        "def u_iter(n,U0):\n",
        "  res=0\n",
        "  while(n>0):\n",
        "    res+=+n+1\n",
        "    n-=1\n",
        "  res+=U0\n",
        "  return res\n",
        "\n",
        "print(\"rescursif : \"+str(u(10,2)))\n",
        "print(\"itératif : \"+str(u_iter(10,2)))"
      ],
      "execution_count": 15,
      "outputs": [
        {
          "output_type": "stream",
          "text": [
            "rescursif : 67\n",
            "itératif : 67\n"
          ],
          "name": "stdout"
        }
      ]
    },
    {
      "cell_type": "markdown",
      "metadata": {
        "id": "0rqa60Em9gLI"
      },
      "source": [
        "Ex4:\n",
        "On pose Tn=n^2−(n−1)^2 ainsi que Sn=T1+T2+T3+...+Tn.\n",
        "1. Etant donné n, afficher la valeur de Sn."
      ]
    },
    {
      "cell_type": "code",
      "metadata": {
        "id": "4eC9ak_Q9gLJ",
        "outputId": "c74704c2-8a83-4720-f2f3-ad612ed1f7e1",
        "colab": {
          "base_uri": "https://localhost:8080/"
        }
      },
      "source": [
        "def t(n):\n",
        "  return n**2 -(n-1)**2\n",
        "def s(n):\n",
        "  if(n==1):\n",
        "    return t(1) \n",
        "  else:\n",
        "    return s(n-1) + t(n)\n",
        "s(4)"
      ],
      "execution_count": 17,
      "outputs": [
        {
          "output_type": "execute_result",
          "data": {
            "text/plain": [
              "16"
            ]
          },
          "metadata": {
            "tags": []
          },
          "execution_count": 17
        }
      ]
    },
    {
      "cell_type": "markdown",
      "metadata": {
        "id": "7waPbnZE9gLN"
      },
      "source": [
        "Ex5:\n",
        "Soit la suite définie par Un+1=0.5.Un et de premier terme U0. Plus la valeur de n augmente, plus les valeurs de Un se rapprochent de 0.\n",
        "\n",
        "Ecrire une fonction qui permet de déterminer pour un réel positif e donné, quel est le plus petit entier n tel que la valeur de Un soit inférieure à e.\n"
      ]
    },
    {
      "cell_type": "code",
      "metadata": {
        "id": "uBpxzQU_9gLP",
        "outputId": "36844c2b-a2e4-4227-9dd8-86b3fad615f7",
        "colab": {
          "base_uri": "https://localhost:8080/"
        }
      },
      "source": [
        "def u(n,U0):\n",
        "  if(n==0):\n",
        "    return U0\n",
        "  else:\n",
        "    return 0.5 * u(n-1,U0)\n",
        "\n",
        "def chercheN(U0,e):\n",
        "  n=0\n",
        "  while(u(n,U0)>e):\n",
        "    n+=1\n",
        "  return n\n",
        "\n",
        "chercheN(1,0.25)"
      ],
      "execution_count": 29,
      "outputs": [
        {
          "output_type": "execute_result",
          "data": {
            "text/plain": [
              "0"
            ]
          },
          "metadata": {
            "tags": []
          },
          "execution_count": 29
        }
      ]
    },
    {
      "cell_type": "markdown",
      "metadata": {
        "id": "pRupIKsX9gLU"
      },
      "source": [
        "Ex6: Constante K de Catalan : https://fr.wikipedia.org/wiki/Constante_de_Catalan\n",
        "Ecrire une fonction qui permet de retourner une valeur approchée de la constante K et en s’arrêtant dès que la valeur absolue de la différence entre deux somme successives devienne inférieure ou égale à une erreur epsilon donnée en paramètre.\n",
        "\n"
      ]
    },
    {
      "cell_type": "code",
      "metadata": {
        "id": "gNQenKpd9gLW",
        "outputId": "f672e396-83af-4d1f-b9fb-c1335aa5ee3d",
        "colab": {
          "base_uri": "https://localhost:8080/"
        }
      },
      "source": [
        "def sommeCatalan(n):\n",
        "  if(n==0):\n",
        "    return 1\n",
        "  else:\n",
        "    return sommeCatalan(n-1)+((-1)**n)/((2*n+1)**2)\n",
        "\n",
        "def catalan(e):\n",
        "  n=1\n",
        "  while abs(sommeCatalan(n)-sommeCatalan(n-1))>e:\n",
        "    n+=1\n",
        "  return sommeCatalan(n)\n",
        "\n",
        "catalan(0.05)"
      ],
      "execution_count": 39,
      "outputs": [
        {
          "output_type": "execute_result",
          "data": {
            "text/plain": [
              "0.9288888888888889"
            ]
          },
          "metadata": {
            "tags": []
          },
          "execution_count": 39
        }
      ]
    },
    {
      "cell_type": "markdown",
      "metadata": {
        "id": "esqMhYV89gLa"
      },
      "source": [
        "Ex 7:\n",
        "Ecrivez une fonction permettant de calculer la limite à epsilon près de la suite définie par la relation de récurrence :\n",
        "\n",
        "U0 =2\n",
        "Un+1= Un + 2/Un  , n>0.\n",
        "\n",
        "On arrête d’itérer quand l’intervalle entre 2 termes consécutifs devient strictement inférieur à epsilon."
      ]
    },
    {
      "cell_type": "code",
      "metadata": {
        "id": "483WLQjSI_LR",
        "outputId": "b340cca6-c2a0-4710-8ef5-58283b5c0035",
        "colab": {
          "base_uri": "https://localhost:8080/"
        }
      },
      "source": [
        "def u(n):\n",
        "  if(n==0):\n",
        "    return 2\n",
        "  else:\n",
        "    return u(n-1)+(2/u(n-1))\n",
        "def limite(e):\n",
        "  n=1\n",
        "  while abs(u(n)-u(n-1))>=e:\n",
        "    n+=1\n",
        "  return u(n)\n",
        "\n",
        "limite(0.5)"
      ],
      "execution_count": 48,
      "outputs": [
        {
          "output_type": "execute_result",
          "data": {
            "text/plain": [
              "4.686941356006104"
            ]
          },
          "metadata": {
            "tags": []
          },
          "execution_count": 48
        }
      ]
    }
  ]
}